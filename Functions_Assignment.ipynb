{
  "nbformat": 4,
  "nbformat_minor": 0,
  "metadata": {
    "colab": {
      "provenance": []
    },
    "kernelspec": {
      "name": "python3",
      "display_name": "Python 3"
    },
    "language_info": {
      "name": "python"
    }
  },
  "cells": [
    {
      "cell_type": "markdown",
      "source": [
        "**Functions Assignment**\n",
        "\n",
        " **Theory Question and Answer**\n",
        "\n",
        "1. What is the difference between a function and a method in Python?\n",
        "Function: A block of code defined using def or lambda, independent of any object.\n",
        "\n",
        "Method: A function associated with an object/class and takes self or cls as its first parameter.\n",
        "\n",
        "2. Explain the concept of function arguments and parameters in Python.\n",
        "Parameters: Variables defined in the function declaration.\n",
        "\n",
        "Arguments: Actual values passed when calling the function.\n",
        "\n",
        "Types: Positional, Keyword, Default, *args (variable positional), **kwargs (variable keyword).\n",
        "\n",
        "3. What are the different ways to define and call a function in Python?\n",
        "Define: Using def or lambda.\n",
        "\n",
        "Call: Using positional arguments, keyword arguments, or unpacked arguments (*args, **kwargs).\n",
        "\n",
        "4. What is the purpose of the return statement in a Python function?\n",
        "Used to send a result from a function back to the caller.\n",
        "\n",
        "Ends the function execution and returns None by default if omitted.\n",
        "\n",
        "5. What are iterators in Python and how do they differ from iterables?\n",
        "Iterable: An object capable of returning items one at a time (e.g., list, tuple).\n",
        "\n",
        "Iterator: An object with __iter__() and __next__() methods that produces values one at a time.\n",
        "\n",
        "6. Explain the concept of generators in Python and how they are defined.\n",
        "Generators: Functions using yield to return items one at a time instead of returning all at once.\n",
        "\n",
        "Defined like normal functions but use yield instead of return.\n",
        "\n",
        "7. What are the advantages of using generators over regular functions?\n",
        "Memory efficient (lazy evaluation).\n",
        "\n",
        "Can handle infinite sequences.\n",
        "\n",
        "Faster for large data as no list creation overhead.\n",
        "\n",
        "Simplifies iterator logic.\n",
        "\n",
        "8. What is a lambda function in Python and when is it typically used?\n",
        "Lambda function: Anonymous, one-line function using lambda.\n",
        "\n",
        "Usage: Short operations, often used in map(), filter(), sorted().\n",
        "\n",
        "9. Explain the purpose and usage of the map() function in Python.\n",
        "Purpose: Applies a function to every element of an iterable.\n",
        "\n",
        "Usage:\n",
        "\n",
        "python\n",
        "Copy\n",
        "Edit\n",
        "nums = [1, 2, 3]\n",
        "result = map(lambda x: x*2, nums)\n",
        "print(list(result))  # [2, 4, 6]\n",
        "10. What is the difference between map(), reduce(), and filter() functions in Python?\n",
        "map(): Applies a function to all elements. Returns transformed values.\n",
        "\n",
        "filter(): Selects elements that satisfy a condition. Returns a subset.\n",
        "\n",
        "reduce(): Combines all elements into one value (e.g., sum, product)."
      ],
      "metadata": {
        "id": "SyEJobxVD3RO"
      }
    },
    {
      "cell_type": "markdown",
      "source": [
        "**Practical Questions and Answer:**\n"
      ],
      "metadata": {
        "id": "PvTn_LyuE_MG"
      }
    },
    {
      "cell_type": "code",
      "source": [
        "#1. Write a Python function that takes a list of numbers as input and returns the sum of all even numbers in the list.\n",
        "\n",
        "def sum_even(numbers):\n",
        "    return sum(num for num in numbers if num % 2 == 0)\n",
        "\n",
        "print(sum_even([1, 2, 3, 4, 5, 6]))"
      ],
      "metadata": {
        "colab": {
          "base_uri": "https://localhost:8080/"
        },
        "id": "olFFlDTkFRnE",
        "outputId": "6776faa5-a28e-4a66-f040-625552042010"
      },
      "execution_count": 2,
      "outputs": [
        {
          "output_type": "stream",
          "name": "stdout",
          "text": [
            "12\n"
          ]
        }
      ]
    },
    {
      "cell_type": "code",
      "source": [
        "#2. Create a Python function that accepts a string and returns the reverse of that string.\n",
        "\n",
        "def reverse_string(s):\n",
        "    return s[::-1]\n",
        "\n",
        "print(reverse_string(\"hello\"))"
      ],
      "metadata": {
        "colab": {
          "base_uri": "https://localhost:8080/"
        },
        "id": "Voc0EW8lFuzT",
        "outputId": "b7ccaa18-c296-4ea5-aabc-0ad567882455"
      },
      "execution_count": 3,
      "outputs": [
        {
          "output_type": "stream",
          "name": "stdout",
          "text": [
            "olleh\n"
          ]
        }
      ]
    },
    {
      "cell_type": "code",
      "source": [
        "#3. Implement a Python function that takes a list of integers and returns a new list containing the squares of each number.\n",
        "\n",
        "def square_list(numbers):\n",
        "    return [x**2 for x in numbers]\n",
        "\n",
        "print(square_list([1, 2, 3, 4]))"
      ],
      "metadata": {
        "colab": {
          "base_uri": "https://localhost:8080/"
        },
        "id": "Qf2FjNQlFu7O",
        "outputId": "c3ce6ab0-bf42-4d15-bf32-9a50408db99e"
      },
      "execution_count": 4,
      "outputs": [
        {
          "output_type": "stream",
          "name": "stdout",
          "text": [
            "[1, 4, 9, 16]\n"
          ]
        }
      ]
    },
    {
      "cell_type": "code",
      "source": [
        "#4. Write a Python function that checks if a given number is prime or not from 1 to 200.\n",
        "\n",
        "def is_prime(n):\n",
        "    if n < 2:\n",
        "        return False\n",
        "    for i in range(2, int(n**0.5) + 1):\n",
        "        if n % i == 0:\n",
        "            return False\n",
        "    return True\n",
        "# Check primes from 1 to 200\n",
        "primes = [x for x in range(1, 201) if is_prime(x)]\n",
        "print(primes)"
      ],
      "metadata": {
        "colab": {
          "base_uri": "https://localhost:8080/"
        },
        "id": "Ci56GnZ1FvCk",
        "outputId": "f6528790-f3dd-4a46-86fe-031518a15b23"
      },
      "execution_count": 7,
      "outputs": [
        {
          "output_type": "stream",
          "name": "stdout",
          "text": [
            "[2, 3, 5, 7, 11, 13, 17, 19, 23, 29, 31, 37, 41, 43, 47, 53, 59, 61, 67, 71, 73, 79, 83, 89, 97, 101, 103, 107, 109, 113, 127, 131, 137, 139, 149, 151, 157, 163, 167, 173, 179, 181, 191, 193, 197, 199]\n"
          ]
        }
      ]
    },
    {
      "cell_type": "code",
      "source": [
        "#5. Create an iterator class in Python that generates the Fibonacci sequence up to a specified number of terms.\n",
        "\n",
        "class FibonacciIterator:\n",
        "    def __init__(self, n):\n",
        "        self.n = n\n",
        "        self.a, self.b, self.count = 0, 1, 0\n",
        "\n",
        "    def __iter__(self):\n",
        "        return self\n",
        "\n",
        "    def __next__(self):\n",
        "        if self.count >= self.n:\n",
        "            raise StopIteration\n",
        "        value = self.a\n",
        "        self.a, self.b = self.b, self.a + self.b\n",
        "        self.count += 1\n",
        "        return value\n",
        "\n",
        "fib = FibonacciIterator(10)\n",
        "for num in fib:\n",
        "    print(num)"
      ],
      "metadata": {
        "colab": {
          "base_uri": "https://localhost:8080/"
        },
        "id": "0c77Ddw_FvKE",
        "outputId": "ef3f49f0-718b-4e7a-a895-c3184dd0c27e"
      },
      "execution_count": 8,
      "outputs": [
        {
          "output_type": "stream",
          "name": "stdout",
          "text": [
            "0\n",
            "1\n",
            "1\n",
            "2\n",
            "3\n",
            "5\n",
            "8\n",
            "13\n",
            "21\n",
            "34\n"
          ]
        }
      ]
    },
    {
      "cell_type": "code",
      "source": [
        "#6. Write a generator function in Python that yields the powers of 2 up to a given exponent.\n",
        "\n",
        "def powers_of_two(n):\n",
        "    for i in range(n + 1):\n",
        "        yield 2 ** i\n",
        "\n",
        "for val in powers_of_two(5):\n",
        "    print(val)"
      ],
      "metadata": {
        "colab": {
          "base_uri": "https://localhost:8080/"
        },
        "id": "R21vUe_QFvRc",
        "outputId": "acbe90e4-a45e-4d21-d6e8-053989cedab8"
      },
      "execution_count": 9,
      "outputs": [
        {
          "output_type": "stream",
          "name": "stdout",
          "text": [
            "1\n",
            "2\n",
            "4\n",
            "8\n",
            "16\n",
            "32\n"
          ]
        }
      ]
    },
    {
      "cell_type": "code",
      "source": [
        "def read_file_line_by_line(filename):\n",
        "    with open(filename, 'r', encoding='utf-8') as f:\n",
        "        for line in f:\n",
        "            yield line.strip()\n",
        "\n",
        "# Ensure sample.txt is in the same folder as this script\n",
        "for line in read_file_line_by_line('sample.txt'):\n",
        "    print(line)"
      ],
      "metadata": {
        "id": "324Lhe5vHYzT"
      },
      "execution_count": null,
      "outputs": []
    },
    {
      "cell_type": "code",
      "source": [
        "#8. Use a lambda function in Python to sort a list of tuples based on the second element of each tuple.\n",
        "\n",
        "data = [(1, 3), (4, 1), (5, 2)]\n",
        "sorted_data = sorted(data, key=lambda x: x[1])\n",
        "print(sorted_data)"
      ],
      "metadata": {
        "colab": {
          "base_uri": "https://localhost:8080/"
        },
        "id": "jc8tWuNuFvs0",
        "outputId": "416f93b9-1235-41b6-81a7-d6f24f0813ee"
      },
      "execution_count": 12,
      "outputs": [
        {
          "output_type": "stream",
          "name": "stdout",
          "text": [
            "[(4, 1), (5, 2), (1, 3)]\n"
          ]
        }
      ]
    },
    {
      "cell_type": "code",
      "source": [
        "#9. Write a Python program that uses map() to convert a list of temperatures from Celsius to Fahrenheit.\n",
        "\n",
        "temps_c = [0, 20, 30, 40]\n",
        "temps_f = list(map(lambda c: (c * 9/5) + 32, temps_c))\n",
        "print(temps_f)"
      ],
      "metadata": {
        "colab": {
          "base_uri": "https://localhost:8080/"
        },
        "id": "LQ21DzA0Fvy_",
        "outputId": "ecac98dd-b07e-4ec8-f670-a12dcb46aadc"
      },
      "execution_count": 13,
      "outputs": [
        {
          "output_type": "stream",
          "name": "stdout",
          "text": [
            "[32.0, 68.0, 86.0, 104.0]\n"
          ]
        }
      ]
    },
    {
      "cell_type": "code",
      "source": [
        "#10. Create a Python program that uses filter() to remove all the vowels from a given string.\n",
        "\n",
        "def remove_vowels(s):\n",
        "    vowels = \"aeiouAEIOU\"\n",
        "    return \"\".join(filter(lambda ch: ch not in vowels, s))\n",
        "\n",
        "print(remove_vowels(\"Hello World\"))"
      ],
      "metadata": {
        "colab": {
          "base_uri": "https://localhost:8080/"
        },
        "id": "R65yPkboFwME",
        "outputId": "e89ae29f-cab6-45cc-f951-2af819b1291d"
      },
      "execution_count": 14,
      "outputs": [
        {
          "output_type": "stream",
          "name": "stdout",
          "text": [
            "Hll Wrld\n"
          ]
        }
      ]
    }
  ]
}